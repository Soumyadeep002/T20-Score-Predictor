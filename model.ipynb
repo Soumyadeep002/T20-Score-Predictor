{
 "cells": [
  {
   "cell_type": "code",
   "execution_count": 68,
   "metadata": {},
   "outputs": [],
   "source": [
    "import numpy as np\n",
    "import pandas as pd"
   ]
  },
  {
   "cell_type": "code",
   "execution_count": 69,
   "metadata": {},
   "outputs": [
    {
     "data": {
      "text/html": [
       "<div>\n",
       "<style scoped>\n",
       "    .dataframe tbody tr th:only-of-type {\n",
       "        vertical-align: middle;\n",
       "    }\n",
       "\n",
       "    .dataframe tbody tr th {\n",
       "        vertical-align: top;\n",
       "    }\n",
       "\n",
       "    .dataframe thead th {\n",
       "        text-align: right;\n",
       "    }\n",
       "</style>\n",
       "<table border=\"1\" class=\"dataframe\">\n",
       "  <thead>\n",
       "    <tr style=\"text-align: right;\">\n",
       "      <th></th>\n",
       "      <th>batting_team</th>\n",
       "      <th>bowling_team</th>\n",
       "      <th>city</th>\n",
       "      <th>current_score</th>\n",
       "      <th>balls_left</th>\n",
       "      <th>wickets_left</th>\n",
       "      <th>crr</th>\n",
       "      <th>last_five</th>\n",
       "      <th>runs_x</th>\n",
       "    </tr>\n",
       "  </thead>\n",
       "  <tbody>\n",
       "    <tr>\n",
       "      <th>0</th>\n",
       "      <td>Sri Lanka</td>\n",
       "      <td>Australia</td>\n",
       "      <td>Colombo</td>\n",
       "      <td>0</td>\n",
       "      <td>119</td>\n",
       "      <td>10</td>\n",
       "      <td>0.000000</td>\n",
       "      <td>NaN</td>\n",
       "      <td>128</td>\n",
       "    </tr>\n",
       "    <tr>\n",
       "      <th>1</th>\n",
       "      <td>Sri Lanka</td>\n",
       "      <td>Australia</td>\n",
       "      <td>Colombo</td>\n",
       "      <td>1</td>\n",
       "      <td>118</td>\n",
       "      <td>10</td>\n",
       "      <td>3.000000</td>\n",
       "      <td>NaN</td>\n",
       "      <td>128</td>\n",
       "    </tr>\n",
       "    <tr>\n",
       "      <th>2</th>\n",
       "      <td>Sri Lanka</td>\n",
       "      <td>Australia</td>\n",
       "      <td>Colombo</td>\n",
       "      <td>5</td>\n",
       "      <td>117</td>\n",
       "      <td>10</td>\n",
       "      <td>10.000000</td>\n",
       "      <td>NaN</td>\n",
       "      <td>128</td>\n",
       "    </tr>\n",
       "    <tr>\n",
       "      <th>3</th>\n",
       "      <td>Sri Lanka</td>\n",
       "      <td>Australia</td>\n",
       "      <td>Colombo</td>\n",
       "      <td>6</td>\n",
       "      <td>116</td>\n",
       "      <td>10</td>\n",
       "      <td>9.000000</td>\n",
       "      <td>NaN</td>\n",
       "      <td>128</td>\n",
       "    </tr>\n",
       "    <tr>\n",
       "      <th>4</th>\n",
       "      <td>Sri Lanka</td>\n",
       "      <td>Australia</td>\n",
       "      <td>Colombo</td>\n",
       "      <td>7</td>\n",
       "      <td>115</td>\n",
       "      <td>10</td>\n",
       "      <td>8.400000</td>\n",
       "      <td>NaN</td>\n",
       "      <td>128</td>\n",
       "    </tr>\n",
       "    <tr>\n",
       "      <th>5</th>\n",
       "      <td>Sri Lanka</td>\n",
       "      <td>Australia</td>\n",
       "      <td>Colombo</td>\n",
       "      <td>9</td>\n",
       "      <td>114</td>\n",
       "      <td>10</td>\n",
       "      <td>9.000000</td>\n",
       "      <td>NaN</td>\n",
       "      <td>128</td>\n",
       "    </tr>\n",
       "    <tr>\n",
       "      <th>6</th>\n",
       "      <td>Sri Lanka</td>\n",
       "      <td>Australia</td>\n",
       "      <td>Colombo</td>\n",
       "      <td>9</td>\n",
       "      <td>113</td>\n",
       "      <td>10</td>\n",
       "      <td>7.714286</td>\n",
       "      <td>NaN</td>\n",
       "      <td>128</td>\n",
       "    </tr>\n",
       "    <tr>\n",
       "      <th>7</th>\n",
       "      <td>Sri Lanka</td>\n",
       "      <td>Australia</td>\n",
       "      <td>Colombo</td>\n",
       "      <td>9</td>\n",
       "      <td>113</td>\n",
       "      <td>10</td>\n",
       "      <td>7.714286</td>\n",
       "      <td>NaN</td>\n",
       "      <td>128</td>\n",
       "    </tr>\n",
       "    <tr>\n",
       "      <th>8</th>\n",
       "      <td>Sri Lanka</td>\n",
       "      <td>Australia</td>\n",
       "      <td>Colombo</td>\n",
       "      <td>9</td>\n",
       "      <td>112</td>\n",
       "      <td>9</td>\n",
       "      <td>6.750000</td>\n",
       "      <td>NaN</td>\n",
       "      <td>128</td>\n",
       "    </tr>\n",
       "    <tr>\n",
       "      <th>9</th>\n",
       "      <td>Sri Lanka</td>\n",
       "      <td>Australia</td>\n",
       "      <td>Colombo</td>\n",
       "      <td>9</td>\n",
       "      <td>111</td>\n",
       "      <td>9</td>\n",
       "      <td>6.000000</td>\n",
       "      <td>NaN</td>\n",
       "      <td>128</td>\n",
       "    </tr>\n",
       "  </tbody>\n",
       "</table>\n",
       "</div>"
      ],
      "text/plain": [
       "  batting_team bowling_team     city  current_score  balls_left  wickets_left  \\\n",
       "0    Sri Lanka    Australia  Colombo              0         119            10   \n",
       "1    Sri Lanka    Australia  Colombo              1         118            10   \n",
       "2    Sri Lanka    Australia  Colombo              5         117            10   \n",
       "3    Sri Lanka    Australia  Colombo              6         116            10   \n",
       "4    Sri Lanka    Australia  Colombo              7         115            10   \n",
       "5    Sri Lanka    Australia  Colombo              9         114            10   \n",
       "6    Sri Lanka    Australia  Colombo              9         113            10   \n",
       "7    Sri Lanka    Australia  Colombo              9         113            10   \n",
       "8    Sri Lanka    Australia  Colombo              9         112             9   \n",
       "9    Sri Lanka    Australia  Colombo              9         111             9   \n",
       "\n",
       "         crr  last_five  runs_x  \n",
       "0   0.000000        NaN     128  \n",
       "1   3.000000        NaN     128  \n",
       "2  10.000000        NaN     128  \n",
       "3   9.000000        NaN     128  \n",
       "4   8.400000        NaN     128  \n",
       "5   9.000000        NaN     128  \n",
       "6   7.714286        NaN     128  \n",
       "7   7.714286        NaN     128  \n",
       "8   6.750000        NaN     128  \n",
       "9   6.000000        NaN     128  "
      ]
     },
     "execution_count": 69,
     "metadata": {},
     "output_type": "execute_result"
    }
   ],
   "source": [
    "df = pd.read_csv(\"T20_mens_dataset.csv\")\n",
    "df.head(10)"
   ]
  },
  {
   "cell_type": "code",
   "execution_count": 70,
   "metadata": {},
   "outputs": [
    {
     "data": {
      "text/plain": [
       "(50609, 9)"
      ]
     },
     "execution_count": 70,
     "metadata": {},
     "output_type": "execute_result"
    }
   ],
   "source": [
    "df.shape"
   ]
  },
  {
   "cell_type": "markdown",
   "metadata": {},
   "source": [
    "### **Dropping all rows containing null values**"
   ]
  },
  {
   "cell_type": "code",
   "execution_count": 73,
   "metadata": {},
   "outputs": [
    {
     "data": {
      "text/plain": [
       "batting_team         0\n",
       "bowling_team         0\n",
       "city                 0\n",
       "current_score        0\n",
       "balls_left           0\n",
       "wickets_left         0\n",
       "crr                  0\n",
       "last_five        12053\n",
       "runs_x               0\n",
       "dtype: int64"
      ]
     },
     "execution_count": 73,
     "metadata": {},
     "output_type": "execute_result"
    }
   ],
   "source": [
    "df.isnull().sum()"
   ]
  },
  {
   "cell_type": "code",
   "execution_count": 112,
   "metadata": {},
   "outputs": [
    {
     "data": {
      "text/plain": [
       "batting_team     0\n",
       "bowling_team     0\n",
       "city             0\n",
       "current_score    0\n",
       "balls_left       0\n",
       "wickets_left     0\n",
       "crr              0\n",
       "last_five        0\n",
       "runs_x           0\n",
       "dtype: int64"
      ]
     },
     "execution_count": 112,
     "metadata": {},
     "output_type": "execute_result"
    }
   ],
   "source": [
    "df.dropna(inplace=True)\n",
    "df.isnull().sum()"
   ]
  },
  {
   "cell_type": "code",
   "execution_count": 72,
   "metadata": {},
   "outputs": [
    {
     "data": {
      "text/plain": [
       "batting_team      object\n",
       "bowling_team      object\n",
       "city              object\n",
       "current_score      int64\n",
       "balls_left         int64\n",
       "wickets_left       int64\n",
       "crr              float64\n",
       "last_five        float64\n",
       "runs_x             int64\n",
       "dtype: object"
      ]
     },
     "execution_count": 72,
     "metadata": {},
     "output_type": "execute_result"
    }
   ],
   "source": [
    "df.dtypes"
   ]
  },
  {
   "cell_type": "markdown",
   "metadata": {},
   "source": [
    "## **EDA: Exploratory Data Analysis**"
   ]
  },
  {
   "cell_type": "code",
   "execution_count": 113,
   "metadata": {},
   "outputs": [
    {
     "data": {
      "text/html": [
       "<div>\n",
       "<style scoped>\n",
       "    .dataframe tbody tr th:only-of-type {\n",
       "        vertical-align: middle;\n",
       "    }\n",
       "\n",
       "    .dataframe tbody tr th {\n",
       "        vertical-align: top;\n",
       "    }\n",
       "\n",
       "    .dataframe thead th {\n",
       "        text-align: right;\n",
       "    }\n",
       "</style>\n",
       "<table border=\"1\" class=\"dataframe\">\n",
       "  <thead>\n",
       "    <tr style=\"text-align: right;\">\n",
       "      <th></th>\n",
       "      <th>current_score</th>\n",
       "      <th>balls_left</th>\n",
       "      <th>wickets_left</th>\n",
       "      <th>crr</th>\n",
       "      <th>last_five</th>\n",
       "      <th>runs_x</th>\n",
       "    </tr>\n",
       "  </thead>\n",
       "  <tbody>\n",
       "    <tr>\n",
       "      <th>count</th>\n",
       "      <td>38556.000000</td>\n",
       "      <td>38556.000000</td>\n",
       "      <td>38556.000000</td>\n",
       "      <td>38556.000000</td>\n",
       "      <td>38556.000000</td>\n",
       "      <td>38556.000000</td>\n",
       "    </tr>\n",
       "    <tr>\n",
       "      <th>mean</th>\n",
       "      <td>94.078224</td>\n",
       "      <td>45.884480</td>\n",
       "      <td>6.733634</td>\n",
       "      <td>7.563875</td>\n",
       "      <td>38.484023</td>\n",
       "      <td>160.082192</td>\n",
       "    </tr>\n",
       "    <tr>\n",
       "      <th>std</th>\n",
       "      <td>41.630432</td>\n",
       "      <td>26.542472</td>\n",
       "      <td>2.034015</td>\n",
       "      <td>1.722000</td>\n",
       "      <td>11.810156</td>\n",
       "      <td>32.203038</td>\n",
       "    </tr>\n",
       "    <tr>\n",
       "      <th>min</th>\n",
       "      <td>12.000000</td>\n",
       "      <td>0.000000</td>\n",
       "      <td>0.000000</td>\n",
       "      <td>2.270270</td>\n",
       "      <td>9.000000</td>\n",
       "      <td>72.000000</td>\n",
       "    </tr>\n",
       "    <tr>\n",
       "      <th>25%</th>\n",
       "      <td>60.000000</td>\n",
       "      <td>23.000000</td>\n",
       "      <td>5.000000</td>\n",
       "      <td>6.375000</td>\n",
       "      <td>30.000000</td>\n",
       "      <td>139.000000</td>\n",
       "    </tr>\n",
       "    <tr>\n",
       "      <th>50%</th>\n",
       "      <td>89.000000</td>\n",
       "      <td>46.000000</td>\n",
       "      <td>7.000000</td>\n",
       "      <td>7.500000</td>\n",
       "      <td>38.000000</td>\n",
       "      <td>159.000000</td>\n",
       "    </tr>\n",
       "    <tr>\n",
       "      <th>75%</th>\n",
       "      <td>123.000000</td>\n",
       "      <td>69.000000</td>\n",
       "      <td>8.000000</td>\n",
       "      <td>8.630497</td>\n",
       "      <td>46.000000</td>\n",
       "      <td>182.000000</td>\n",
       "    </tr>\n",
       "    <tr>\n",
       "      <th>max</th>\n",
       "      <td>263.000000</td>\n",
       "      <td>98.000000</td>\n",
       "      <td>10.000000</td>\n",
       "      <td>16.600000</td>\n",
       "      <td>89.000000</td>\n",
       "      <td>263.000000</td>\n",
       "    </tr>\n",
       "  </tbody>\n",
       "</table>\n",
       "</div>"
      ],
      "text/plain": [
       "       current_score    balls_left  wickets_left           crr     last_five  \\\n",
       "count   38556.000000  38556.000000  38556.000000  38556.000000  38556.000000   \n",
       "mean       94.078224     45.884480      6.733634      7.563875     38.484023   \n",
       "std        41.630432     26.542472      2.034015      1.722000     11.810156   \n",
       "min        12.000000      0.000000      0.000000      2.270270      9.000000   \n",
       "25%        60.000000     23.000000      5.000000      6.375000     30.000000   \n",
       "50%        89.000000     46.000000      7.000000      7.500000     38.000000   \n",
       "75%       123.000000     69.000000      8.000000      8.630497     46.000000   \n",
       "max       263.000000     98.000000     10.000000     16.600000     89.000000   \n",
       "\n",
       "             runs_x  \n",
       "count  38556.000000  \n",
       "mean     160.082192  \n",
       "std       32.203038  \n",
       "min       72.000000  \n",
       "25%      139.000000  \n",
       "50%      159.000000  \n",
       "75%      182.000000  \n",
       "max      263.000000  "
      ]
     },
     "execution_count": 113,
     "metadata": {},
     "output_type": "execute_result"
    }
   ],
   "source": [
    "df.describe()"
   ]
  },
  {
   "cell_type": "markdown",
   "metadata": {},
   "source": [
    "# **Model Building**"
   ]
  },
  {
   "cell_type": "markdown",
   "metadata": {},
   "source": [
    "### **1. Train Test Split**"
   ]
  },
  {
   "cell_type": "code",
   "execution_count": 76,
   "metadata": {},
   "outputs": [],
   "source": [
    "from sklearn.model_selection import train_test_split\n",
    "\n",
    "y = df[['runs_x']]\n",
    "X = df.drop(columns=['runs_x'])"
   ]
  },
  {
   "cell_type": "code",
   "execution_count": 77,
   "metadata": {},
   "outputs": [],
   "source": [
    "X_train, X_test, y_train, y_test = train_test_split(X, y, test_size=0.2, random_state=1)"
   ]
  },
  {
   "cell_type": "code",
   "execution_count": 81,
   "metadata": {},
   "outputs": [
    {
     "data": {
      "text/plain": [
       "(7712, 8)"
      ]
     },
     "execution_count": 81,
     "metadata": {},
     "output_type": "execute_result"
    }
   ],
   "source": [
    "X_test.shape"
   ]
  },
  {
   "cell_type": "markdown",
   "metadata": {},
   "source": [
    "### **2. Data Transformation**"
   ]
  },
  {
   "cell_type": "code",
   "execution_count": 101,
   "metadata": {},
   "outputs": [],
   "source": [
    "from sklearn.compose import ColumnTransformer\n",
    "from sklearn.preprocessing import OneHotEncoder, StandardScaler"
   ]
  },
  {
   "cell_type": "code",
   "execution_count": 102,
   "metadata": {},
   "outputs": [],
   "source": [
    "trf = ColumnTransformer([\n",
    "    ('trf', OneHotEncoder(sparse_output=False), ['batting_team', 'bowling_team', 'city'])\n",
    "], remainder='passthrough')"
   ]
  },
  {
   "cell_type": "code",
   "execution_count": 86,
   "metadata": {},
   "outputs": [],
   "source": [
    "scl = StandardScaler()\n"
   ]
  },
  {
   "cell_type": "markdown",
   "metadata": {},
   "source": [
    "### **3. Model Taining**"
   ]
  },
  {
   "cell_type": "code",
   "execution_count": 100,
   "metadata": {},
   "outputs": [],
   "source": [
    "from sklearn.pipeline import Pipeline\n",
    "from sklearn.ensemble import RandomForestRegressor\n",
    "from sklearn.linear_model import LinearRegression\n",
    "from xgboost import XGBRegressor\n",
    "from sklearn.metrics import r2_score, mean_absolute_error, mean_squared_error"
   ]
  },
  {
   "cell_type": "code",
   "execution_count": 108,
   "metadata": {},
   "outputs": [
    {
     "name": "stdout",
     "output_type": "stream",
     "text": [
      "R2 score is: 0.9891198369000512\n",
      "mean absolute error is: 1.5571246997944053\n",
      "mean squared error is: 11.341998688228887\n",
      "-------------------------\n"
     ]
    },
    {
     "name": "stderr",
     "output_type": "stream",
     "text": [
      "e:\\Programs\\Python Codes\\GDSC AIML\\ml regression project 2\\.venv\\lib\\site-packages\\sklearn\\base.py:1474: DataConversionWarning: A column-vector y was passed when a 1d array was expected. Please change the shape of y to (n_samples,), for example using ravel().\n",
      "  return fit_method(estimator, *args, **kwargs)\n"
     ]
    },
    {
     "name": "stdout",
     "output_type": "stream",
     "text": [
      "R2 score is: 0.9825328467890253\n",
      "mean absolute error is: 1.9641168741355466\n",
      "mean squared error is: 18.20858998031927\n",
      "-------------------------\n",
      "R2 score is: 0.7077214828220033\n",
      "mean absolute error is: 13.0455764886242\n",
      "mean squared error is: 304.6850059118985\n",
      "-------------------------\n"
     ]
    }
   ],
   "source": [
    "algos = [XGBRegressor(n_estimators = 1000, learning_rate = 0.15, max_depth = 12, random_state = 1), RandomForestRegressor(n_estimators=100, random_state=1, oob_score=True), LinearRegression()]\n",
    "\n",
    "for algo in algos:\n",
    "        pipe = Pipeline(steps=[\n",
    "        (\"step1\", trf),\n",
    "        ('step2', StandardScaler()),\n",
    "        ('step3', algo)     \n",
    "    ])\n",
    "        pipe.fit(X_train, y_train)\n",
    "        y_pred = pipe.predict(X_test)\n",
    "        print(f'R2 score is: {r2_score(y_test, y_pred)}')\n",
    "        print(f'mean absolute error is: {mean_absolute_error(y_test, y_pred)}')\n",
    "        print(f'mean squared error is: {mean_squared_error(y_test, y_pred)}')\n",
    "\n",
    "        print(\"-\"*25)\n"
   ]
  },
  {
   "cell_type": "markdown",
   "metadata": {},
   "source": [
    "### **Final Model Pipeline: XGBRegressor**"
   ]
  },
  {
   "cell_type": "code",
   "execution_count": 109,
   "metadata": {},
   "outputs": [
    {
     "name": "stdout",
     "output_type": "stream",
     "text": [
      "R2 score is: 0.9891198369000512\n",
      "mean absolute error is: 1.5571246997944053\n",
      "mean squared error is: 11.341998688228887\n"
     ]
    }
   ],
   "source": [
    "pipe = Pipeline(steps=[\n",
    "        (\"step1\", trf),\n",
    "        ('step2', StandardScaler()),\n",
    "        ('step3', XGBRegressor(n_estimators = 1000, learning_rate = 0.15, max_depth = 12, random_state = 1))     \n",
    "    ])\n",
    "\n",
    "pipe.fit(X_train, y_train)\n",
    "y_pred = pipe.predict(X_test)\n",
    "print(f'R2 score is: {r2_score(y_test, y_pred)}')\n",
    "print(f'mean absolute error is: {mean_absolute_error(y_test, y_pred)}')\n",
    "print(f'mean squared error is: {mean_squared_error(y_test, y_pred)}')"
   ]
  },
  {
   "cell_type": "markdown",
   "metadata": {},
   "source": [
    "### **4. Save the Model**"
   ]
  },
  {
   "cell_type": "code",
   "execution_count": 111,
   "metadata": {},
   "outputs": [],
   "source": [
    "import pickle \n",
    "pickle.dump(pipe, open('model_pipeline.pkl', 'wb'))"
   ]
  }
 ],
 "metadata": {
  "kernelspec": {
   "display_name": ".venv",
   "language": "python",
   "name": "python3"
  },
  "language_info": {
   "codemirror_mode": {
    "name": "ipython",
    "version": 3
   },
   "file_extension": ".py",
   "mimetype": "text/x-python",
   "name": "python",
   "nbconvert_exporter": "python",
   "pygments_lexer": "ipython3",
   "version": "3.10.11"
  }
 },
 "nbformat": 4,
 "nbformat_minor": 2
}

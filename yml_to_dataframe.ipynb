{
 "cells": [
  {
   "cell_type": "code",
   "execution_count": 1,
   "metadata": {},
   "outputs": [
    {
     "data": {
      "text/plain": [
       "['data\\\\1001349.yaml',\n",
       " 'data\\\\1001351.yaml',\n",
       " 'data\\\\1001353.yaml',\n",
       " 'data\\\\1004729.yaml',\n",
       " 'data\\\\1007655.yaml']"
      ]
     },
     "execution_count": 1,
     "metadata": {},
     "output_type": "execute_result"
    }
   ],
   "source": [
    "import numpy as np\n",
    "import pandas as pd\n",
    "from yaml import safe_load\n",
    "import os\n",
    "from tqdm import tqdm\n",
    "\n",
    "filesname = []\n",
    "for file in os.listdir('data'):\n",
    "    filesname.append(os.path.join('data', file))\n",
    "\n",
    "filesname[0:5]"
   ]
  },
  {
   "cell_type": "code",
   "execution_count": null,
   "metadata": {},
   "outputs": [],
   "source": [
    "final_df = pd.DataFrame()\n",
    "counter = 1\n",
    "for file in tqdm(filesname):\n",
    "    with open(file,'r') as f:\n",
    "        df= pd.json_normalize(safe_load(f))\n",
    "        df[\"match_id\"]= counter \n",
    "        final_df = pd.concat([df, final_df])\n",
    "        counter+=1"
   ]
  },
  {
   "cell_type": "code",
   "execution_count": null,
   "metadata": {},
   "outputs": [],
   "source": [
    "import pickle \n",
    "\n",
    "pickle.dump(final_df, open(\"dataframe.pkl\", 'wb'))"
   ]
  }
 ],
 "metadata": {
  "kernelspec": {
   "display_name": ".venv",
   "language": "python",
   "name": "python3"
  },
  "language_info": {
   "codemirror_mode": {
    "name": "ipython",
    "version": 3
   },
   "file_extension": ".py",
   "mimetype": "text/x-python",
   "name": "python",
   "nbconvert_exporter": "python",
   "pygments_lexer": "ipython3",
   "version": "3.10.11"
  }
 },
 "nbformat": 4,
 "nbformat_minor": 2
}
